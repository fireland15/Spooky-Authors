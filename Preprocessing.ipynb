{
 "cells": [
  {
   "cell_type": "code",
   "execution_count": 22,
   "metadata": {},
   "outputs": [
    {
     "data": {
      "text/plain": [
       "(19579, 3)"
      ]
     },
     "execution_count": 22,
     "metadata": {},
     "output_type": "execute_result"
    }
   ],
   "source": [
    "import numpy as np\n",
    "import pandas as pd\n",
    "from __future__ import print_function\n",
    "\n",
    "train = pd.read_csv('train.csv')\n",
    "train.shape # three columns are id, text, author"
   ]
  },
  {
   "cell_type": "code",
   "execution_count": 23,
   "metadata": {},
   "outputs": [
    {
     "name": "stdout",
     "output_type": "stream",
     "text": [
      "[[ 1.  0.  0.]\n",
      " [ 0.  1.  0.]\n",
      " [ 1.  0.  0.]\n",
      " ..., \n",
      " [ 1.  0.  0.]\n",
      " [ 1.  0.  0.]\n",
      " [ 0.  1.  0.]]\n"
     ]
    }
   ],
   "source": [
    "from keras.utils import to_categorical\n",
    "\n",
    "a2c = {'EAP': 0, 'HPL' : 1, 'MWS' : 2}\n",
    "labels = np.array([a2c[a] for a in train.author])\n",
    "labels = to_categorical(labels)\n",
    "print(labels)"
   ]
  },
  {
   "cell_type": "code",
   "execution_count": 24,
   "metadata": {},
   "outputs": [
    {
     "name": "stdout",
     "output_type": "stream",
     "text": [
      "text shape:  (19579,)\n",
      "This process, however, afforded me no means of ascertaining the dimensions of my dungeon; as I might make its circuit, and return to the point whence I set out, without being aware of the fact; so perfectly uniform seemed the wall.\n"
     ]
    }
   ],
   "source": [
    "text = train[\"text\"]\n",
    "print(\"text shape: \", text.shape)\n",
    "print(text[0])"
   ]
  },
  {
   "cell_type": "code",
   "execution_count": 25,
   "metadata": {},
   "outputs": [
    {
     "name": "stdout",
     "output_type": "stream",
     "text": [
      "[nltk_data] Downloading package stopwords to\n",
      "[nltk_data]     C:\\Users\\Forrest\\AppData\\Roaming\\nltk_data...\n",
      "[nltk_data]   Package stopwords is already up-to-date!\n"
     ]
    }
   ],
   "source": [
    "import nltk\n",
    "nltk.download(\"stopwords\")\n",
    "from nltk.corpus import stopwords\n",
    "\n",
    "def removeStops(words):\n",
    "    stops = set(stopwords.words(\"english\"))\n",
    "    return [word for word in words if word not in stops]\n"
   ]
  },
  {
   "cell_type": "code",
   "execution_count": 26,
   "metadata": {},
   "outputs": [
    {
     "name": "stdout",
     "output_type": "stream",
     "text": [
      "['T', 'h', ' ', 'p', 'r', 'c', 'e', ',', ' ', 'h', 'w', 'e', 'v', 'e', 'r', ',', ' ', 'f', 'f', 'r', 'e', ' ', 'e', ' ', 'n', ' ', 'e', 'n', ' ', 'f', ' ', 'c', 'e', 'r', 'n', 'n', 'g', ' ', 'h', 'e', ' ', 'e', 'n', 'n', ' ', 'f', ' ', ' ', 'u', 'n', 'g', 'e', 'n', ';', ' ', ' ', 'I', ' ', 'g', 'h', ' ', 'k', 'e', ' ', ' ', 'c', 'r', 'c', 'u', ',', ' ', 'n', ' ', 'r', 'e', 'u', 'r', 'n', ' ', ' ', 'h', 'e', ' ', 'p', 'n', ' ', 'w', 'h', 'e', 'n', 'c', 'e', ' ', 'I', ' ', 'e', ' ', 'u', ',', ' ', 'w', 'h', 'u', ' ', 'b', 'e', 'n', 'g', ' ', 'w', 'r', 'e', ' ', 'f', ' ', 'h', 'e', ' ', 'f', 'c', ';', ' ', ' ', 'p', 'e', 'r', 'f', 'e', 'c', 'l', ' ', 'u', 'n', 'f', 'r', ' ', 'e', 'e', 'e', ' ', 'h', 'e', ' ', 'w', 'l', 'l', '.']\n"
     ]
    },
    {
     "ename": "AttributeError",
     "evalue": "'list' object has no attribute 'lower'",
     "output_type": "error",
     "traceback": [
      "\u001b[1;31m---------------------------------------------------------------------------\u001b[0m",
      "\u001b[1;31mAttributeError\u001b[0m                            Traceback (most recent call last)",
      "\u001b[1;32m<ipython-input-26-115b4bdb75be>\u001b[0m in \u001b[0;36m<module>\u001b[1;34m()\u001b[0m\n\u001b[0;32m      4\u001b[0m \u001b[0mprint\u001b[0m\u001b[1;33m(\u001b[0m\u001b[0mtext\u001b[0m\u001b[1;33m[\u001b[0m\u001b[1;36m0\u001b[0m\u001b[1;33m]\u001b[0m\u001b[1;33m)\u001b[0m\u001b[1;33m\u001b[0m\u001b[0m\n\u001b[0;32m      5\u001b[0m \u001b[0mtokenizer\u001b[0m \u001b[1;33m=\u001b[0m \u001b[0mTokenizer\u001b[0m\u001b[1;33m(\u001b[0m\u001b[0mfilters\u001b[0m\u001b[1;33m=\u001b[0m\u001b[1;34m\"!@#$%^&*()-=_+,./<>?;:'\\\"\"\u001b[0m\u001b[1;33m,\u001b[0m \u001b[0mlower\u001b[0m\u001b[1;33m=\u001b[0m\u001b[1;32mTrue\u001b[0m\u001b[1;33m,\u001b[0m \u001b[0msplit\u001b[0m\u001b[1;33m=\u001b[0m\u001b[1;34m\" \"\u001b[0m\u001b[1;33m,\u001b[0m \u001b[0mchar_level\u001b[0m\u001b[1;33m=\u001b[0m\u001b[1;32mFalse\u001b[0m\u001b[1;33m)\u001b[0m\u001b[1;33m\u001b[0m\u001b[0m\n\u001b[1;32m----> 6\u001b[1;33m \u001b[0mtokenizer\u001b[0m\u001b[1;33m.\u001b[0m\u001b[0mfit_on_texts\u001b[0m\u001b[1;33m(\u001b[0m\u001b[0mtext\u001b[0m\u001b[1;33m)\u001b[0m\u001b[1;33m;\u001b[0m\u001b[1;33m\u001b[0m\u001b[0m\n\u001b[0m\u001b[0;32m      7\u001b[0m \u001b[0mdocs\u001b[0m \u001b[1;33m=\u001b[0m \u001b[0mtokenizer\u001b[0m\u001b[1;33m.\u001b[0m\u001b[0mtexts_to_sequences\u001b[0m\u001b[1;33m(\u001b[0m\u001b[0mtext\u001b[0m\u001b[1;33m)\u001b[0m\u001b[1;33m;\u001b[0m\u001b[1;33m\u001b[0m\u001b[0m\n\u001b[0;32m      8\u001b[0m \u001b[0mprint\u001b[0m\u001b[1;33m(\u001b[0m\u001b[1;34m\"text: \"\u001b[0m\u001b[1;33m,\u001b[0m \u001b[0mtext\u001b[0m\u001b[1;33m[\u001b[0m\u001b[1;36m0\u001b[0m\u001b[1;33m]\u001b[0m\u001b[1;33m)\u001b[0m\u001b[1;33m\u001b[0m\u001b[0m\n",
      "\u001b[1;32mc:\\users\\forrest\\envs\\ml\\lib\\site-packages\\keras\\preprocessing\\text.py\u001b[0m in \u001b[0;36mfit_on_texts\u001b[1;34m(self, texts)\u001b[0m\n\u001b[0;32m    173\u001b[0m                                                                      \u001b[0mself\u001b[0m\u001b[1;33m.\u001b[0m\u001b[0mfilters\u001b[0m\u001b[1;33m,\u001b[0m\u001b[1;33m\u001b[0m\u001b[0m\n\u001b[0;32m    174\u001b[0m                                                                      \u001b[0mself\u001b[0m\u001b[1;33m.\u001b[0m\u001b[0mlower\u001b[0m\u001b[1;33m,\u001b[0m\u001b[1;33m\u001b[0m\u001b[0m\n\u001b[1;32m--> 175\u001b[1;33m                                                                      self.split)\n\u001b[0m\u001b[0;32m    176\u001b[0m             \u001b[1;32mfor\u001b[0m \u001b[0mw\u001b[0m \u001b[1;32min\u001b[0m \u001b[0mseq\u001b[0m\u001b[1;33m:\u001b[0m\u001b[1;33m\u001b[0m\u001b[0m\n\u001b[0;32m    177\u001b[0m                 \u001b[1;32mif\u001b[0m \u001b[0mw\u001b[0m \u001b[1;32min\u001b[0m \u001b[0mself\u001b[0m\u001b[1;33m.\u001b[0m\u001b[0mword_counts\u001b[0m\u001b[1;33m:\u001b[0m\u001b[1;33m\u001b[0m\u001b[0m\n",
      "\u001b[1;32mc:\\users\\forrest\\envs\\ml\\lib\\site-packages\\keras\\preprocessing\\text.py\u001b[0m in \u001b[0;36mtext_to_word_sequence\u001b[1;34m(text, filters, lower, split)\u001b[0m\n\u001b[0;32m     38\u001b[0m     \"\"\"\n\u001b[0;32m     39\u001b[0m     \u001b[1;32mif\u001b[0m \u001b[0mlower\u001b[0m\u001b[1;33m:\u001b[0m\u001b[1;33m\u001b[0m\u001b[0m\n\u001b[1;32m---> 40\u001b[1;33m         \u001b[0mtext\u001b[0m \u001b[1;33m=\u001b[0m \u001b[0mtext\u001b[0m\u001b[1;33m.\u001b[0m\u001b[0mlower\u001b[0m\u001b[1;33m(\u001b[0m\u001b[1;33m)\u001b[0m\u001b[1;33m\u001b[0m\u001b[0m\n\u001b[0m\u001b[0;32m     41\u001b[0m \u001b[1;33m\u001b[0m\u001b[0m\n\u001b[0;32m     42\u001b[0m     \u001b[1;32mif\u001b[0m \u001b[0msys\u001b[0m\u001b[1;33m.\u001b[0m\u001b[0mversion_info\u001b[0m \u001b[1;33m<\u001b[0m \u001b[1;33m(\u001b[0m\u001b[1;36m3\u001b[0m\u001b[1;33m,\u001b[0m\u001b[1;33m)\u001b[0m \u001b[1;32mand\u001b[0m \u001b[0misinstance\u001b[0m\u001b[1;33m(\u001b[0m\u001b[0mtext\u001b[0m\u001b[1;33m,\u001b[0m \u001b[0municode\u001b[0m\u001b[1;33m)\u001b[0m\u001b[1;33m:\u001b[0m\u001b[1;33m\u001b[0m\u001b[0m\n",
      "\u001b[1;31mAttributeError\u001b[0m: 'list' object has no attribute 'lower'"
     ]
    }
   ],
   "source": [
    "from keras.preprocessing.text import Tokenizer\n",
    "\n",
    "text = [removeStops(t) for t in text]\n",
    "print(text[0])\n",
    "tokenizer = Tokenizer(filters=\"!@#$%^&*()-=_+,./<>?;:'\\\"\", lower=True, split=\" \", char_level=False)\n",
    "tokenizer.fit_on_texts(text);\n",
    "docs = tokenizer.texts_to_sequences(text);\n",
    "print(\"text: \", text[0])\n",
    "print(\"tokenized: \", docs[0])"
   ]
  },
  {
   "cell_type": "code",
   "execution_count": 69,
   "metadata": {},
   "outputs": [
    {
     "name": "stdout",
     "output_type": "stream",
     "text": [
      "max doc length:  861\n",
      "docs[0]:  861\n"
     ]
    }
   ],
   "source": [
    "from keras.preprocessing.sequence import pad_sequences\n",
    "\n",
    "maxlen = np.amax([len(x) for x in docs], axis=0)\n",
    "print(\"max doc length: \", maxlen)\n",
    "\n",
    "docs = pad_sequences(sequences=docs, maxlen=maxlen)\n",
    "print(\"docs[0]: \", len(docs[0]))"
   ]
  },
  {
   "cell_type": "code",
   "execution_count": 70,
   "metadata": {},
   "outputs": [],
   "source": [
    "from sklearn.model_selection import train_test_split\n",
    "\n",
    "x_train, x_test, y_train, y_test = train_test_split(docs, labels, test_size=0.2)\n",
    "input_dim = np.max(docs) + 1\n",
    "embedding_dims = 20"
   ]
  },
  {
   "cell_type": "code",
   "execution_count": 71,
   "metadata": {},
   "outputs": [],
   "source": [
    "from keras.layers import Dense, GlobalAveragePooling1D, Embedding\n",
    "from keras.models import Sequential\n",
    "\n",
    "def create_model(input_dim, embedding_dims=20, optimizer='adam'):\n",
    "    model = Sequential()\n",
    "    model.add(Embedding(input_dim=input_dim, output_dim=embedding_dims))\n",
    "    model.add(GlobalAveragePooling1D())\n",
    "    model.add(Dense(3, activation='softmax'))\n",
    "\n",
    "    model.compile(loss='categorical_crossentropy',\n",
    "                  optimizer=optimizer,\n",
    "                  metrics=['accuracy'])\n",
    "    return model"
   ]
  },
  {
   "cell_type": "code",
   "execution_count": 72,
   "metadata": {},
   "outputs": [],
   "source": [
    "model = create_model(input_dim, embedding_dims=embedding_dims)"
   ]
  },
  {
   "cell_type": "code",
   "execution_count": 73,
   "metadata": {},
   "outputs": [
    {
     "name": "stdout",
     "output_type": "stream",
     "text": [
      "Train on 15663 samples, validate on 3916 samples\n",
      "Epoch 1/64\n",
      "15663/15663 [==============================] - 6s 395us/step - loss: 1.0876 - acc: 0.3983 - val_loss: 1.0786 - val_acc: 0.4211\n",
      "Epoch 2/64\n",
      "15663/15663 [==============================] - 6s 363us/step - loss: 1.0796 - acc: 0.3995 - val_loss: 1.0670 - val_acc: 0.4211\n",
      "Epoch 3/64\n",
      "15663/15663 [==============================] - 6s 366us/step - loss: 1.0605 - acc: 0.4069 - val_loss: 1.0435 - val_acc: 0.4515\n",
      "Epoch 4/64\n",
      "15663/15663 [==============================] - 6s 370us/step - loss: 1.0197 - acc: 0.4869 - val_loss: 0.9959 - val_acc: 0.4974\n",
      "Epoch 5/64\n",
      "15663/15663 [==============================] - 6s 384us/step - loss: 0.9597 - acc: 0.5949 - val_loss: 0.9436 - val_acc: 0.6461\n",
      "Epoch 6/64\n",
      "15663/15663 [==============================] - 6s 371us/step - loss: 0.8904 - acc: 0.6720 - val_loss: 0.8780 - val_acc: 0.6734\n",
      "Epoch 7/64\n",
      "15663/15663 [==============================] - 6s 363us/step - loss: 0.8210 - acc: 0.7206 - val_loss: 0.8226 - val_acc: 0.7030\n",
      "Epoch 8/64\n",
      "15663/15663 [==============================] - 6s 364us/step - loss: 0.7573 - acc: 0.7504 - val_loss: 0.7717 - val_acc: 0.7038\n",
      "Epoch 9/64\n",
      "15663/15663 [==============================] - 6s 368us/step - loss: 0.6989 - acc: 0.7733 - val_loss: 0.7305 - val_acc: 0.7372\n",
      "Epoch 10/64\n",
      "15663/15663 [==============================] - 6s 364us/step - loss: 0.6497 - acc: 0.7930 - val_loss: 0.6921 - val_acc: 0.7217\n",
      "Epoch 11/64\n",
      "15663/15663 [==============================] - 6s 370us/step - loss: 0.6049 - acc: 0.8056 - val_loss: 0.6579 - val_acc: 0.7490\n",
      "Epoch 12/64\n",
      "15663/15663 [==============================] - 6s 368us/step - loss: 0.5650 - acc: 0.8184 - val_loss: 0.6375 - val_acc: 0.7630\n",
      "Epoch 13/64\n",
      "15663/15663 [==============================] - 6s 368us/step - loss: 0.5290 - acc: 0.8292 - val_loss: 0.6135 - val_acc: 0.7663\n",
      "Epoch 14/64\n",
      "15663/15663 [==============================] - 6s 367us/step - loss: 0.4970 - acc: 0.8415 - val_loss: 0.5869 - val_acc: 0.7778\n",
      "Epoch 15/64\n",
      "15663/15663 [==============================] - 6s 368us/step - loss: 0.4675 - acc: 0.8509 - val_loss: 0.5623 - val_acc: 0.7835\n",
      "Epoch 16/64\n",
      "15663/15663 [==============================] - 6s 393us/step - loss: 0.4410 - acc: 0.8590 - val_loss: 0.5610 - val_acc: 0.7812\n",
      "Epoch 17/64\n",
      "15663/15663 [==============================] - 6s 382us/step - loss: 0.4165 - acc: 0.8679 - val_loss: 0.5294 - val_acc: 0.7916\n",
      "Epoch 18/64\n",
      "15663/15663 [==============================] - 6s 377us/step - loss: 0.3932 - acc: 0.8766 - val_loss: 0.5255 - val_acc: 0.7840\n",
      "Epoch 19/64\n",
      "15663/15663 [==============================] - 6s 371us/step - loss: 0.3730 - acc: 0.8850 - val_loss: 0.4985 - val_acc: 0.8031\n",
      "Epoch 20/64\n",
      "15663/15663 [==============================] - 6s 370us/step - loss: 0.3532 - acc: 0.8907 - val_loss: 0.4944 - val_acc: 0.8039\n",
      "Epoch 21/64\n",
      "15663/15663 [==============================] - 6s 368us/step - loss: 0.3355 - acc: 0.8957 - val_loss: 0.4769 - val_acc: 0.8121\n",
      "Epoch 22/64\n",
      "15663/15663 [==============================] - 6s 378us/step - loss: 0.3196 - acc: 0.9024 - val_loss: 0.4694 - val_acc: 0.8121\n",
      "Epoch 23/64\n",
      "15663/15663 [==============================] - 6s 370us/step - loss: 0.3056 - acc: 0.9061 - val_loss: 0.4743 - val_acc: 0.8064\n",
      "Epoch 24/64\n",
      "15663/15663 [==============================] - 6s 384us/step - loss: 0.2897 - acc: 0.9125 - val_loss: 0.4498 - val_acc: 0.8151\n",
      "Epoch 25/64\n",
      "15663/15663 [==============================] - 6s 387us/step - loss: 0.2775 - acc: 0.9173 - val_loss: 0.4501 - val_acc: 0.8212\n",
      "Epoch 26/64\n",
      "15663/15663 [==============================] - 6s 366us/step - loss: 0.2640 - acc: 0.9202 - val_loss: 0.4375 - val_acc: 0.8215\n",
      "Epoch 27/64\n",
      "15663/15663 [==============================] - 6s 388us/step - loss: 0.2525 - acc: 0.9250 - val_loss: 0.4307 - val_acc: 0.8228\n",
      "Epoch 28/64\n",
      "15663/15663 [==============================] - 6s 385us/step - loss: 0.2421 - acc: 0.9275 - val_loss: 0.4310 - val_acc: 0.8264\n",
      "Epoch 29/64\n",
      "15663/15663 [==============================] - 6s 362us/step - loss: 0.2320 - acc: 0.9312 - val_loss: 0.4191 - val_acc: 0.8276\n",
      "Epoch 30/64\n",
      "15663/15663 [==============================] - 6s 366us/step - loss: 0.2215 - acc: 0.9340 - val_loss: 0.4144 - val_acc: 0.8348\n",
      "Epoch 31/64\n",
      "15663/15663 [==============================] - 6s 373us/step - loss: 0.2134 - acc: 0.9363 - val_loss: 0.4112 - val_acc: 0.8358\n",
      "Epoch 32/64\n",
      "15663/15663 [==============================] - 6s 377us/step - loss: 0.2026 - acc: 0.9424 - val_loss: 0.4105 - val_acc: 0.8353\n",
      "Epoch 33/64\n",
      "15663/15663 [==============================] - 6s 376us/step - loss: 0.1952 - acc: 0.9434 - val_loss: 0.4020 - val_acc: 0.8381\n",
      "Epoch 34/64\n",
      "15663/15663 [==============================] - 7s 435us/step - loss: 0.1879 - acc: 0.9443 - val_loss: 0.4036 - val_acc: 0.8348\n",
      "Epoch 35/64\n",
      "15663/15663 [==============================] - 7s 458us/step - loss: 0.1815 - acc: 0.9478 - val_loss: 0.4169 - val_acc: 0.8253\n"
     ]
    },
    {
     "data": {
      "text/plain": [
       "<keras.callbacks.History at 0x1cada922ef0>"
      ]
     },
     "execution_count": 73,
     "metadata": {},
     "output_type": "execute_result"
    }
   ],
   "source": [
    "from keras.callbacks import EarlyStopping\n",
    "\n",
    "model.fit(x_train, y_train,\n",
    "                 batch_size=16,\n",
    "                 validation_data=(x_test, y_test),\n",
    "                 epochs=64,\n",
    "                 callbacks=[EarlyStopping(patience=2, monitor='val_loss')])"
   ]
  },
  {
   "cell_type": "markdown",
   "metadata": {},
   "source": [
    "| Attempted | acc | loss | val_acc | val_loss | epochs |\n",
    "|-----------|-----|------|---------|----------|--------|\n",
    "| Tokenize only | 0.9182 | 0.2822 | 0.8026 | 0.4854 | 25/64 |\n",
    "| Filter non alphanumeric (!@#$%^&*()-=_+,./<>?;:'\\\") | 0.9399 |0.1989 | 0.8292 | 0.4235 | 36/64|\n",
    "| texts_to_matrix insteadt of texts_to_sequences | 0.4054 | 1.0872 | 0.3961 | 1.0898 | 6/64 |\n",
    "| Filter like above without converting to lowercase | 0.9478 | 0.1815 | 0.8253 | 0.4169 | 35/64 |"
   ]
  },
  {
   "cell_type": "code",
   "execution_count": null,
   "metadata": {},
   "outputs": [],
   "source": []
  }
 ],
 "metadata": {
  "kernelspec": {
   "display_name": "Python 3",
   "language": "python",
   "name": "python3"
  },
  "language_info": {
   "codemirror_mode": {
    "name": "ipython",
    "version": 3
   },
   "file_extension": ".py",
   "mimetype": "text/x-python",
   "name": "python",
   "nbconvert_exporter": "python",
   "pygments_lexer": "ipython3",
   "version": "3.6.3"
  }
 },
 "nbformat": 4,
 "nbformat_minor": 2
}
