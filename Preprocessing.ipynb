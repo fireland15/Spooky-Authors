{
 "cells": [
  {
   "cell_type": "code",
   "execution_count": 134,
   "metadata": {},
   "outputs": [],
   "source": [
    "import numpy as np\n",
    "from __future__ import print_function"
   ]
  },
  {
   "cell_type": "code",
   "execution_count": 135,
   "metadata": {},
   "outputs": [],
   "source": [
    "from keras.utils import to_categorical\n",
    "\n",
    "def make_labels(data):\n",
    "    a2c = {'EAP': 0, 'HPL' : 1, 'MWS' : 2}\n",
    "    labels = np.array([a2c[a] for a in data.author])\n",
    "    labels = to_categorical(labels)\n",
    "    return labels\n",
    "\n",
    "def get_text_only(data):\n",
    "    return data[\"text\"]"
   ]
  },
  {
   "cell_type": "code",
   "execution_count": 153,
   "metadata": {},
   "outputs": [],
   "source": [
    "from keras.callbacks import EarlyStopping\n",
    "\n",
    "def run(load_func, preprocess_func, create_model_func):\n",
    "    print(\"Loading data\")\n",
    "    full_data = load_func()\n",
    "    \n",
    "    print(\"Getting labels\")\n",
    "    labels = make_labels(full_data)    \n",
    "    \n",
    "    print(\"Preprocessing\")\n",
    "    data = preprocess_func(get_text_only(full_data))\n",
    "    \n",
    "    input_dim = max([max(x) for x in data]) + 1\n",
    "\n",
    "    print(\"Creating model\")\n",
    "    model = create_model_func(input_dim)\n",
    "    \n",
    "    x_train, x_test, y_train, y_test = train_test_split(data, labels, test_size=0.2)\n",
    "    \n",
    "    print(\"Training model\")\n",
    "    model.fit(x_train, y_train,\n",
    "                 batch_size=16,\n",
    "                 validation_data=(x_test, y_test),\n",
    "                 epochs=64,\n",
    "                 verbose=2,\n",
    "                 callbacks=[EarlyStopping(patience=2, monitor='val_loss')])\n",
    "    print(\"Training complete\")"
   ]
  },
  {
   "cell_type": "code",
   "execution_count": 144,
   "metadata": {},
   "outputs": [],
   "source": [
    "import pandas as pd\n",
    "\n",
    "def load_training_data():\n",
    "    return pd.read_csv(\"train.csv\")"
   ]
  },
  {
   "cell_type": "code",
   "execution_count": 145,
   "metadata": {},
   "outputs": [],
   "source": [
    "from keras.layers import Dense, GlobalAveragePooling1D, Embedding\n",
    "from keras.models import Sequential\n",
    "\n",
    "def create_simple_model(input_dim, embedding_dims=20, optimizer='adam'):\n",
    "    model = Sequential()\n",
    "    model.add(Embedding(input_dim=input_dim, output_dim=embedding_dims))\n",
    "    model.add(GlobalAveragePooling1D())\n",
    "    model.add(Dense(3, activation='softmax'))\n",
    "\n",
    "    model.compile(loss='categorical_crossentropy',\n",
    "                  optimizer=optimizer,\n",
    "                  metrics=['accuracy'])\n",
    "    return model"
   ]
  },
  {
   "cell_type": "code",
   "execution_count": 146,
   "metadata": {},
   "outputs": [
    {
     "name": "stdout",
     "output_type": "stream",
     "text": [
      "[nltk_data] Downloading package stopwords to\n",
      "[nltk_data]     C:\\Users\\Forrest\\AppData\\Roaming\\nltk_data...\n",
      "[nltk_data]   Package stopwords is already up-to-date!\n"
     ]
    }
   ],
   "source": [
    "import nltk\n",
    "nltk.download(\"stopwords\")\n",
    "from nltk.corpus import stopwords\n",
    "\n",
    "# removes stop words from the sentences in text\n",
    "def remove_stops(text):\n",
    "    stops = set(stopwords.words(\"english\"))\n",
    "    return [\" \".join([word for word in nltk.word_tokenize(words) if word not in stops]) for words in text]\n"
   ]
  },
  {
   "cell_type": "code",
   "execution_count": 147,
   "metadata": {},
   "outputs": [],
   "source": [
    "from keras.preprocessing.text import Tokenizer\n",
    "\n",
    "# converts the sentences in text into a sequence of numbers\n",
    "def convert_to_sequences(text, filters, to_lower):\n",
    "    tokenizer = Tokenizer(filters=filters, lower=to_lower, split=\" \", char_level=False)\n",
    "    tokenizer.fit_on_texts(text);\n",
    "    return tokenizer.texts_to_sequences(text)"
   ]
  },
  {
   "cell_type": "code",
   "execution_count": 141,
   "metadata": {},
   "outputs": [],
   "source": [
    "from keras.preprocessing.sequence import pad_sequences\n",
    "\n",
    "def pad_data(text):\n",
    "    maxlen = np.amax([len(x) for x in text], axis=0)\n",
    "    return pad_sequences(sequences=text, maxlen=maxlen)    "
   ]
  },
  {
   "cell_type": "code",
   "execution_count": 154,
   "metadata": {},
   "outputs": [
    {
     "name": "stdout",
     "output_type": "stream",
     "text": [
      "Loading data\n",
      "Getting labels\n",
      "Preprocessing\n",
      "Creating model\n",
      "Training model\n",
      "Train on 15663 samples, validate on 3916 samples\n",
      "Epoch 1/64\n",
      " - 7s - loss: 1.0858 - acc: 0.4031 - val_loss: 1.0868 - val_acc: 0.3933\n",
      "Epoch 2/64\n",
      " - 7s - loss: 1.0783 - acc: 0.4064 - val_loss: 1.0786 - val_acc: 0.3933\n",
      "Epoch 3/64\n",
      " - 7s - loss: 1.0610 - acc: 0.4137 - val_loss: 1.0535 - val_acc: 0.4196\n",
      "Epoch 4/64\n",
      " - 7s - loss: 1.0249 - acc: 0.4726 - val_loss: 1.0210 - val_acc: 0.4632\n",
      "Epoch 5/64\n",
      " - 7s - loss: 0.9721 - acc: 0.5646 - val_loss: 0.9659 - val_acc: 0.5199\n",
      "Epoch 6/64\n",
      " - 6s - loss: 0.9095 - acc: 0.6426 - val_loss: 0.9076 - val_acc: 0.6239\n",
      "Epoch 7/64\n",
      " - 7s - loss: 0.8463 - acc: 0.6910 - val_loss: 0.8553 - val_acc: 0.6537\n",
      "Epoch 8/64\n",
      " - 6s - loss: 0.7852 - acc: 0.7269 - val_loss: 0.8080 - val_acc: 0.6966\n",
      "Epoch 9/64\n",
      " - 6s - loss: 0.7286 - acc: 0.7538 - val_loss: 0.7670 - val_acc: 0.7293\n",
      "Epoch 10/64\n",
      " - 6s - loss: 0.6794 - acc: 0.7740 - val_loss: 0.7287 - val_acc: 0.7398\n",
      "Epoch 11/64\n",
      " - 6s - loss: 0.6332 - acc: 0.7951 - val_loss: 0.6942 - val_acc: 0.7344\n",
      "Epoch 12/64\n",
      " - 6s - loss: 0.5921 - acc: 0.8083 - val_loss: 0.6729 - val_acc: 0.7319\n",
      "Epoch 13/64\n",
      " - 6s - loss: 0.5531 - acc: 0.8224 - val_loss: 0.6391 - val_acc: 0.7505\n",
      "Epoch 14/64\n",
      " - 6s - loss: 0.5186 - acc: 0.8394 - val_loss: 0.6120 - val_acc: 0.7674\n",
      "Epoch 15/64\n",
      " - 6s - loss: 0.4863 - acc: 0.8461 - val_loss: 0.5895 - val_acc: 0.7766\n",
      "Epoch 16/64\n",
      " - 6s - loss: 0.4571 - acc: 0.8611 - val_loss: 0.5691 - val_acc: 0.7858\n",
      "Epoch 17/64\n",
      " - 6s - loss: 0.4307 - acc: 0.8701 - val_loss: 0.5599 - val_acc: 0.7868\n",
      "Epoch 18/64\n",
      " - 6s - loss: 0.4044 - acc: 0.8797 - val_loss: 0.5511 - val_acc: 0.7768\n",
      "Epoch 19/64\n",
      " - 6s - loss: 0.3809 - acc: 0.8883 - val_loss: 0.5252 - val_acc: 0.7967\n",
      "Epoch 20/64\n",
      " - 6s - loss: 0.3576 - acc: 0.8968 - val_loss: 0.5101 - val_acc: 0.8052\n",
      "Epoch 21/64\n",
      " - 6s - loss: 0.3384 - acc: 0.9009 - val_loss: 0.5045 - val_acc: 0.8052\n",
      "Epoch 22/64\n",
      " - 6s - loss: 0.3190 - acc: 0.9077 - val_loss: 0.4908 - val_acc: 0.8110\n",
      "Epoch 23/64\n",
      " - 6s - loss: 0.3014 - acc: 0.9155 - val_loss: 0.4910 - val_acc: 0.8006\n",
      "Epoch 24/64\n",
      " - 6s - loss: 0.2847 - acc: 0.9213 - val_loss: 0.4670 - val_acc: 0.8151\n",
      "Epoch 25/64\n",
      " - 6s - loss: 0.2678 - acc: 0.9259 - val_loss: 0.4795 - val_acc: 0.8092\n",
      "Epoch 26/64\n",
      " - 6s - loss: 0.2532 - acc: 0.9305 - val_loss: 0.4531 - val_acc: 0.8212\n",
      "Epoch 27/64\n",
      " - 6s - loss: 0.2395 - acc: 0.9376 - val_loss: 0.4484 - val_acc: 0.8205\n",
      "Epoch 28/64\n",
      " - 6s - loss: 0.2266 - acc: 0.9416 - val_loss: 0.4387 - val_acc: 0.8253\n",
      "Epoch 29/64\n",
      " - 6s - loss: 0.2148 - acc: 0.9441 - val_loss: 0.4635 - val_acc: 0.8105\n",
      "Epoch 30/64\n",
      " - 6s - loss: 0.2037 - acc: 0.9469 - val_loss: 0.4291 - val_acc: 0.8264\n",
      "Epoch 31/64\n",
      " - 6s - loss: 0.1933 - acc: 0.9489 - val_loss: 0.4480 - val_acc: 0.8192\n",
      "Epoch 32/64\n",
      " - 6s - loss: 0.1812 - acc: 0.9554 - val_loss: 0.4221 - val_acc: 0.8292\n",
      "Epoch 33/64\n",
      " - 6s - loss: 0.1725 - acc: 0.9587 - val_loss: 0.4272 - val_acc: 0.8253\n",
      "Epoch 34/64\n",
      " - 6s - loss: 0.1639 - acc: 0.9588 - val_loss: 0.4202 - val_acc: 0.8312\n",
      "Epoch 35/64\n",
      " - 6s - loss: 0.1552 - acc: 0.9607 - val_loss: 0.4110 - val_acc: 0.8340\n",
      "Epoch 36/64\n",
      " - 6s - loss: 0.1470 - acc: 0.9664 - val_loss: 0.4261 - val_acc: 0.8261\n",
      "Epoch 37/64\n",
      " - 6s - loss: 0.1398 - acc: 0.9671 - val_loss: 0.4134 - val_acc: 0.8338\n",
      "Training complete\n"
     ]
    }
   ],
   "source": [
    "def preprocessing(text):\n",
    "    return pad_data(convert_to_sequences(text, \"\", False))\n",
    "\n",
    "run(load_training_data, preprocessing, create_simple_model)"
   ]
  },
  {
   "cell_type": "markdown",
   "metadata": {},
   "source": [
    "| Attempted | acc | loss | val_acc | val_loss | epochs |\n",
    "|-----------|-----|------|---------|----------|--------|\n",
    "| Tokenize only | 0.9182 | 0.2822 | 0.8026 | 0.4854 | 25/64 |\n",
    "| Filter non alphanumeric (!@#$%^&*()-=_+,./<>?;:'\\\") | 0.9399 |0.1989 | 0.8292 | 0.4235 | 36/64|\n",
    "| texts_to_matrix insteadt of texts_to_sequences | 0.4054 | 1.0872 | 0.3961 | 1.0898 | 6/64 |\n",
    "| Filter like above without converting to lowercase | 0.9478 | 0.1815 | 0.8253 | 0.4169 | 35/64 |\n",
    "| Filter special chars and remove stop words | 0.9314 | 0.2331 | 0.8184 | 0.4475 | 22/64 |\n",
    "| Filter "
   ]
  },
  {
   "cell_type": "code",
   "execution_count": null,
   "metadata": {},
   "outputs": [],
   "source": []
  }
 ],
 "metadata": {
  "kernelspec": {
   "display_name": "Python 3",
   "language": "python",
   "name": "python3"
  },
  "language_info": {
   "codemirror_mode": {
    "name": "ipython",
    "version": 3
   },
   "file_extension": ".py",
   "mimetype": "text/x-python",
   "name": "python",
   "nbconvert_exporter": "python",
   "pygments_lexer": "ipython3",
   "version": "3.6.3"
  }
 },
 "nbformat": 4,
 "nbformat_minor": 2
}
