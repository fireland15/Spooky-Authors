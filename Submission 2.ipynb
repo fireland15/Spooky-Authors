{
 "cells": [
  {
   "cell_type": "markdown",
   "metadata": {},
   "source": [
    "I think this model should focus on extracting features other than the actual words of the texts.\n",
    "Stuff to consider may be:\n",
    "\n",
    "1. sentence length\n",
    "2. frequency of authors most frequent word\n",
    "    - requires preprocessing to separate texts by author and figure out the authors favorite words (non stop)\n",
    "3. word lengths\n",
    "4. punctuation per sentence?\n",
    "5. First person use?\n"
   ]
  },
  {
   "cell_type": "code",
   "execution_count": 7,
   "metadata": {},
   "outputs": [],
   "source": [
    "import numpy as np\n",
    "from __future__ import print_function\n",
    "from keras.utils import to_categorical\n",
    "from sklearn.metrics import classification_report\n",
    "\n",
    "def make_labels(data):\n",
    "    a2c = {'EAP': 0, 'HPL' : 1, 'MWS' : 2}\n",
    "    labels = np.array([a2c[a] for a in data.author])\n",
    "    labels = to_categorical(labels)\n",
    "    return labels\n",
    "\n",
    "def get_text_only(data):\n",
    "    return data[\"text\"]\n",
    "\n",
    "import pandas as pd\n",
    "\n",
    "# loads the training data\n",
    "def load_training_data():\n",
    "    return pd.read_csv(\"train.csv\")"
   ]
  },
  {
   "cell_type": "code",
   "execution_count": 8,
   "metadata": {},
   "outputs": [
    {
     "data": {
      "text/html": [
       "<div>\n",
       "<style scoped>\n",
       "    .dataframe tbody tr th:only-of-type {\n",
       "        vertical-align: middle;\n",
       "    }\n",
       "\n",
       "    .dataframe tbody tr th {\n",
       "        vertical-align: top;\n",
       "    }\n",
       "\n",
       "    .dataframe thead th {\n",
       "        text-align: right;\n",
       "    }\n",
       "</style>\n",
       "<table border=\"1\" class=\"dataframe\">\n",
       "  <thead>\n",
       "    <tr style=\"text-align: right;\">\n",
       "      <th></th>\n",
       "      <th>id</th>\n",
       "      <th>text</th>\n",
       "      <th>author</th>\n",
       "    </tr>\n",
       "  </thead>\n",
       "  <tbody>\n",
       "    <tr>\n",
       "      <th>0</th>\n",
       "      <td>id26305</td>\n",
       "      <td>This process, however, afforded me no means of...</td>\n",
       "      <td>EAP</td>\n",
       "    </tr>\n",
       "    <tr>\n",
       "      <th>1</th>\n",
       "      <td>id17569</td>\n",
       "      <td>It never once occurred to me that the fumbling...</td>\n",
       "      <td>HPL</td>\n",
       "    </tr>\n",
       "    <tr>\n",
       "      <th>2</th>\n",
       "      <td>id11008</td>\n",
       "      <td>In his left hand was a gold snuff box, from wh...</td>\n",
       "      <td>EAP</td>\n",
       "    </tr>\n",
       "    <tr>\n",
       "      <th>3</th>\n",
       "      <td>id27763</td>\n",
       "      <td>How lovely is spring As we looked from Windsor...</td>\n",
       "      <td>MWS</td>\n",
       "    </tr>\n",
       "    <tr>\n",
       "      <th>4</th>\n",
       "      <td>id12958</td>\n",
       "      <td>Finding nothing else, not even gold, the Super...</td>\n",
       "      <td>HPL</td>\n",
       "    </tr>\n",
       "  </tbody>\n",
       "</table>\n",
       "</div>"
      ],
      "text/plain": [
       "        id                                               text author\n",
       "0  id26305  This process, however, afforded me no means of...    EAP\n",
       "1  id17569  It never once occurred to me that the fumbling...    HPL\n",
       "2  id11008  In his left hand was a gold snuff box, from wh...    EAP\n",
       "3  id27763  How lovely is spring As we looked from Windsor...    MWS\n",
       "4  id12958  Finding nothing else, not even gold, the Super...    HPL"
      ]
     },
     "execution_count": 8,
     "metadata": {},
     "output_type": "execute_result"
    }
   ],
   "source": [
    "df = load_training_data()\n",
    "df.head(5)"
   ]
  },
  {
   "cell_type": "code",
   "execution_count": 9,
   "metadata": {},
   "outputs": [
    {
     "data": {
      "text/html": [
       "<div>\n",
       "<style scoped>\n",
       "    .dataframe tbody tr th:only-of-type {\n",
       "        vertical-align: middle;\n",
       "    }\n",
       "\n",
       "    .dataframe tbody tr th {\n",
       "        vertical-align: top;\n",
       "    }\n",
       "\n",
       "    .dataframe thead th {\n",
       "        text-align: right;\n",
       "    }\n",
       "</style>\n",
       "<table border=\"1\" class=\"dataframe\">\n",
       "  <thead>\n",
       "    <tr style=\"text-align: right;\">\n",
       "      <th></th>\n",
       "      <th>id</th>\n",
       "      <th>text</th>\n",
       "      <th>author</th>\n",
       "    </tr>\n",
       "  </thead>\n",
       "  <tbody>\n",
       "    <tr>\n",
       "      <th>0</th>\n",
       "      <td>id26305</td>\n",
       "      <td>This process, however, afforded me no means of...</td>\n",
       "      <td>EAP</td>\n",
       "    </tr>\n",
       "    <tr>\n",
       "      <th>2</th>\n",
       "      <td>id11008</td>\n",
       "      <td>In his left hand was a gold snuff box, from wh...</td>\n",
       "      <td>EAP</td>\n",
       "    </tr>\n",
       "    <tr>\n",
       "      <th>6</th>\n",
       "      <td>id09674</td>\n",
       "      <td>The astronomer, perhaps, at this point, took r...</td>\n",
       "      <td>EAP</td>\n",
       "    </tr>\n",
       "    <tr>\n",
       "      <th>7</th>\n",
       "      <td>id13515</td>\n",
       "      <td>The surcingle hung in ribands from my body.</td>\n",
       "      <td>EAP</td>\n",
       "    </tr>\n",
       "    <tr>\n",
       "      <th>8</th>\n",
       "      <td>id19322</td>\n",
       "      <td>I knew that you could not say to yourself 'ste...</td>\n",
       "      <td>EAP</td>\n",
       "    </tr>\n",
       "  </tbody>\n",
       "</table>\n",
       "</div>"
      ],
      "text/plain": [
       "        id                                               text author\n",
       "0  id26305  This process, however, afforded me no means of...    EAP\n",
       "2  id11008  In his left hand was a gold snuff box, from wh...    EAP\n",
       "6  id09674  The astronomer, perhaps, at this point, took r...    EAP\n",
       "7  id13515        The surcingle hung in ribands from my body.    EAP\n",
       "8  id19322  I knew that you could not say to yourself 'ste...    EAP"
      ]
     },
     "execution_count": 9,
     "metadata": {},
     "output_type": "execute_result"
    }
   ],
   "source": [
    "EAP = df[df.author == \"EAP\"]\n",
    "HPL = df[df.author == \"HPL\"]\n",
    "MWS = df[df.author == \"MWS\"]\n",
    "EAP.head(5)"
   ]
  },
  {
   "cell_type": "code",
   "execution_count": 11,
   "metadata": {},
   "outputs": [],
   "source": [
    "def plot_hist(data, xlim=100, binwidth=1):\n",
    "    import matplotlib.pyplot as plt\n",
    "    %matplotlib inline\n",
    "    plt.hist(data, bins=np.arange(min(data), max(data) + binwidth, binwidth))\n",
    "    plt.xlim(0, xlim)\n",
    "    plt.ylabel(\"Frequency\")"
   ]
  },
  {
   "cell_type": "code",
   "execution_count": 50,
   "metadata": {},
   "outputs": [
    {
     "name": "stdout",
     "output_type": "stream",
     "text": [
      "55\n"
     ]
    },
    {
     "data": {
      "image/png": "[encoded data removed]",
      "text/plain": [
       "<matplotlib.figure.Figure at 0x20b5e440630>"
      ]
     },
     "metadata": {},
     "output_type": "display_data"
    }
   ],
   "source": [
    "EAP_sent_counts = [row.count('.') for row in EAP[\"text\"]]\n",
    "print(max(EAP_sent_counts))\n",
    "\n",
    "plot_hist(EAP_sent_counts, xlim=10)"
   ]
  },
  {
   "cell_type": "code",
   "execution_count": 51,
   "metadata": {},
   "outputs": [
    {
     "name": "stdout",
     "output_type": "stream",
     "text": [
      "12\n"
     ]
    },
    {
     "data": {
      "image/png": "[encoded data removed]",
      "text/plain": [
       "<matplotlib.figure.Figure at 0x20b5e3f8080>"
      ]
     },
     "metadata": {},
     "output_type": "display_data"
    }
   ],
   "source": [
    "HPL_sent_counts = [row.count('.') for row in HPL[\"text\"]]\n",
    "print(max(HPL_sent_counts))\n",
    "\n",
    "plot_hist(HPL_sent_counts, xlim=10)"
   ]
  },
  {
   "cell_type": "code",
   "execution_count": 52,
   "metadata": {},
   "outputs": [
    {
     "name": "stdout",
     "output_type": "stream",
     "text": [
      "4\n"
     ]
    },
    {
     "data": {
      "image/png": "[encoded data removed]",
      "text/plain": [
       "<matplotlib.figure.Figure at 0x20b5e259358>"
      ]
     },
     "metadata": {},
     "output_type": "display_data"
    }
   ],
   "source": [
    "MWS_sent_counts = [row.count('.') for row in MWS[\"text\"]]\n",
    "print(max(MWS_sent_counts))\n",
    "\n",
    "plot_hist(MWS_sent_counts, xlim=10)"
   ]
  },
  {
   "cell_type": "markdown",
   "metadata": {},
   "source": [
    "MWS seems to have fewer \"sentences\" per text than the others"
   ]
  },
  {
   "cell_type": "code",
   "execution_count": 53,
   "metadata": {},
   "outputs": [
    {
     "name": "stdout",
     "output_type": "stream",
     "text": [
      "5.33333333333\n"
     ]
    }
   ],
   "source": [
    "from keras.preprocessing.text import text_to_word_sequence\n",
    "\n",
    "def convert_to_word_sequence(text):\n",
    "    return [text_to_word_sequence(words) for words in text]\n",
    "\n",
    "# input: a string\n",
    "# output: the average number of words between each period (average sentence length)\n",
    "def text_to_sentence_word_length(text):\n",
    "    sentences = text.split(\".\")\n",
    "    lengths = [len(text_to_word_sequence(sentence)) for sentence in sentences]\n",
    "    return np.mean(lengths)\n",
    "\n",
    "print(text_to_sentence_word_length(\"This is a test sentence. How many sentences are there in here. I bet its three\"))"
   ]
  },
  {
   "cell_type": "code",
   "execution_count": 60,
   "metadata": {},
   "outputs": [
    {
     "name": "stdout",
     "output_type": "stream",
     "text": [
      "EAP Sentence Length in Words\n"
     ]
    },
    {
     "data": {
      "image/png": "[encoded data removed]",
      "text/plain": [
       "<matplotlib.figure.Figure at 0x20b5e38f780>"
      ]
     },
     "metadata": {},
     "output_type": "display_data"
    }
   ],
   "source": [
    "EAP_sent_word_lengths = [text_to_sentence_word_length(text) for text in EAP[\"text\"]]\n",
    "print(\"EAP Sentence Length in Words\")\n",
    "plot_hist(EAP_sent_word_lengths, xlim=100)"
   ]
  },
  {
   "cell_type": "code",
   "execution_count": 61,
   "metadata": {},
   "outputs": [
    {
     "name": "stdout",
     "output_type": "stream",
     "text": [
      "HPL Sentence Length in Words\n"
     ]
    },
    {
     "data": {
      "image/png": "[encoded data removed]",
      "text/plain": [
       "<matplotlib.figure.Figure at 0x20b5e386710>"
      ]
     },
     "metadata": {},
     "output_type": "display_data"
    }
   ],
   "source": [
    "HPL_sent_word_lengths = [text_to_sentence_word_length(text) for text in HPL[\"text\"]]\n",
    "print(\"HPL Sentence Length in Words\")\n",
    "plot_hist(HPL_sent_word_lengths, xlim=100)"
   ]
  },
  {
   "cell_type": "code",
   "execution_count": 62,
   "metadata": {},
   "outputs": [
    {
     "name": "stdout",
     "output_type": "stream",
     "text": [
      "MWS Sentence Length in Words\n"
     ]
    },
    {
     "data": {
      "image/png": "[encoded data removed]",
      "text/plain": [
       "<matplotlib.figure.Figure at 0x20b5cc2d080>"
      ]
     },
     "metadata": {},
     "output_type": "display_data"
    }
   ],
   "source": [
    "MWS_sent_word_lengths = [text_to_sentence_word_length(text) for text in MWS[\"text\"]]\n",
    "print(\"MWS Sentence Length in Words\")\n",
    "plot_hist(MWS_sent_word_lengths, xlim=100)"
   ]
  },
  {
   "cell_type": "code",
   "execution_count": 14,
   "metadata": {},
   "outputs": [],
   "source": [
    "def get_average_sentence_length_in_char(text):\n",
    "    sentences = text.split(\".\")\n",
    "    alnum_sentences = [\"\".join([ch for ch in sentence if ch.isalnum()]) for sentence in sentences]\n",
    "    lengths = [len(sentence) for sentence in alnum_sentences if len(sentence) is not 0]\n",
    "    return lengths"
   ]
  },
  {
   "cell_type": "code",
   "execution_count": 15,
   "metadata": {},
   "outputs": [
    {
     "name": "stdout",
     "output_type": "stream",
     "text": [
      "EAP Sentence Lengths in Words\n",
      "1235\n"
     ]
    },
    {
     "data": {
      "image/png": "[encoded data removed]",
      "text/plain": [
       "<matplotlib.figure.Figure at 0x1ed9933d978>"
      ]
     },
     "metadata": {},
     "output_type": "display_data"
    }
   ],
   "source": [
    "EAP_sent_char_length = []\n",
    "for text in EAP[\"text\"]:\n",
    "    EAP_sent_char_length = EAP_sent_char_length + get_average_sentence_length_in_char(text)\n",
    "print(\"EAP Sentence Lengths in Words\")\n",
    "print(max(EAP_sent_char_length))\n",
    "plot_hist(EAP_sent_char_length, xlim=400)"
   ]
  },
  {
   "cell_type": "code",
   "execution_count": 17,
   "metadata": {},
   "outputs": [
    {
     "name": "stdout",
     "output_type": "stream",
     "text": [
      "HPL Sentence Lengths in Words\n",
      "732\n"
     ]
    },
    {
     "data": {
      "image/png": "[encoded data removed]",
      "text/plain": [
       "<matplotlib.figure.Figure at 0x1ed98cf5c88>"
      ]
     },
     "metadata": {},
     "output_type": "display_data"
    }
   ],
   "source": [
    "HPL_sent_char_length = []\n",
    "for text in HPL[\"text\"]:\n",
    "    HPL_sent_char_length = HPL_sent_char_length + get_average_sentence_length_in_char(text)\n",
    "print(\"HPL Sentence Lengths in Words\")\n",
    "print(max(HPL_sent_char_length))\n",
    "plot_hist(HPL_sent_char_length, xlim=400)"
   ]
  },
  {
   "cell_type": "code",
   "execution_count": 18,
   "metadata": {},
   "outputs": [
    {
     "name": "stdout",
     "output_type": "stream",
     "text": [
      "MWS Sentence Lengths in Words\n",
      "3789\n"
     ]
    },
    {
     "data": {
      "image/png": "[encoded data removed]",
      "text/plain": [
       "<matplotlib.figure.Figure at 0x1ed98d5ef60>"
      ]
     },
     "metadata": {},
     "output_type": "display_data"
    }
   ],
   "source": [
    "MWS_sent_char_length = []\n",
    "for text in MWS[\"text\"]:\n",
    "    MWS_sent_char_length = MWS_sent_char_length + get_average_sentence_length_in_char(text)\n",
    "print(\"MWS Sentence Lengths in Words\")\n",
    "print(max(MWS_sent_char_length))\n",
    "plot_hist(MWS_sent_char_length, xlim=1300)"
   ]
  },
  {
   "cell_type": "markdown",
   "metadata": {},
   "source": [
    "EAP seems to have quite a few shorter sentences"
   ]
  },
  {
   "cell_type": "code",
   "execution_count": 5,
   "metadata": {},
   "outputs": [
    {
     "name": "stdout",
     "output_type": "stream",
     "text": [
      "[3, 8, 2, 4, 2, 5, 4, 3, 3, 5, 7]\n"
     ]
    }
   ],
   "source": [
    "def get_word_lengths(text):\n",
    "    text = \"\".join([ch for ch in text if ch.isalnum() or ch == \" \"])\n",
    "    words = text.split(\" \")\n",
    "    lengths = [len(word) for word in words]\n",
    "    return lengths\n",
    "\n",
    "s = \"the sentence is made of words, what are the words lengths\"\n",
    "print(get_word_lengths(s))"
   ]
  },
  {
   "cell_type": "code",
   "execution_count": 13,
   "metadata": {},
   "outputs": [
    {
     "name": "stdout",
     "output_type": "stream",
     "text": [
      "EAP Word Lengths\n",
      "19\n"
     ]
    },
    {
     "data": {
      "image/png": "[encoded data removed]",
      "text/plain": [
       "<matplotlib.figure.Figure at 0x21c29b3e438>"
      ]
     },
     "metadata": {},
     "output_type": "display_data"
    }
   ],
   "source": [
    "EAP_word_lengths = []\n",
    "for text in EAP[\"text\"]:\n",
    "    EAP_word_lengths = EAP_word_lengths + get_word_lengths(text)\n",
    "print(\"EAP Word Lengths\")\n",
    "print(max(EAP_word_lengths))\n",
    "plot_hist(EAP_word_lengths, xlim=20)"
   ]
  },
  {
   "cell_type": "code",
   "execution_count": 14,
   "metadata": {},
   "outputs": [
    {
     "name": "stdout",
     "output_type": "stream",
     "text": [
      "HPL Word Lengths\n",
      "18\n"
     ]
    },
    {
     "data": {
      "image/png": "[encoded data removed]",
      "text/plain": [
       "<matplotlib.figure.Figure at 0x21c295d89e8>"
      ]
     },
     "metadata": {},
     "output_type": "display_data"
    }
   ],
   "source": [
    "HPL_word_lengths = []\n",
    "for text in HPL[\"text\"]:\n",
    "    HPL_word_lengths = HPL_word_lengths + get_word_lengths(text)\n",
    "print(\"HPL Word Lengths\")\n",
    "print(max(HPL_word_lengths))\n",
    "plot_hist(HPL_word_lengths, xlim=20)"
   ]
  },
  {
   "cell_type": "code",
   "execution_count": 15,
   "metadata": {},
   "outputs": [
    {
     "name": "stdout",
     "output_type": "stream",
     "text": [
      "MWS Word Lengths\n",
      "18\n"
     ]
    },
    {
     "data": {
      "image/png": "[encoded data removed]",
      "text/plain": [
       "<matplotlib.figure.Figure at 0x21c295d8550>"
      ]
     },
     "metadata": {},
     "output_type": "display_data"
    }
   ],
   "source": [
    "MWS_word_lengths = []\n",
    "for text in MWS[\"text\"]:\n",
    "    MWS_word_lengths = MWS_word_lengths + get_word_lengths(text)\n",
    "print(\"MWS Word Lengths\")\n",
    "print(max(MWS_word_lengths))\n",
    "plot_hist(MWS_word_lengths, xlim=20)"
   ]
  },
  {
   "cell_type": "markdown",
   "metadata": {},
   "source": [
    "There doesn't seem to be much difference in the length of words the authors use, probably not a great feature to use"
   ]
  },
  {
   "cell_type": "code",
   "execution_count": 21,
   "metadata": {},
   "outputs": [
    {
     "name": "stdout",
     "output_type": "stream",
     "text": [
      "True\n",
      "False\n",
      "True\n"
     ]
    }
   ],
   "source": [
    "from keras.preprocessing.text import Tokenizer\n",
    "\n",
    "tokenizer = Tokenizer(lower=True, split=\" \", char_level=False)\n",
    "tokenizer.fit_on_texts(df[\"text\"]);\n",
    "\n",
    "def is_in_first_person(text):\n",
    "    first_person_words = [\n",
    "        \"i\",\n",
    "        \"we\",\n",
    "        \"me\",\n",
    "        \"mine\",\n",
    "        \"my\",\n",
    "        \"us\",\n",
    "        \"our\",\n",
    "        \"ours\"\n",
    "    ]\n",
    "    first_person_indices = [tokenizer.word_index[word] for word in first_person_words]\n",
    "    seq = tokenizer.texts_to_sequences([text])[0]\n",
    "    return bool(set(first_person_indices) & set(seq))\n",
    "\n",
    "print(is_in_first_person(\"I am a person, we are persons\"))\n",
    "print(is_in_first_person(\"The dog is small\"))\n",
    "print(is_in_first_person(\"what is yours is mine\"))"
   ]
  },
  {
   "cell_type": "code",
   "execution_count": null,
   "metadata": {},
   "outputs": [],
   "source": []
  }
 ],
 "metadata": {
  "kernelspec": {
   "display_name": "Python 3",
   "language": "python",
   "name": "python3"
  },
  "language_info": {
   "codemirror_mode": {
    "name": "ipython",
    "version": 3
   },
   "file_extension": ".py",
   "mimetype": "text/x-python",
   "name": "python",
   "nbconvert_exporter": "python",
   "pygments_lexer": "ipython3",
   "version": "3.6.3"
  }
 },
 "nbformat": 4,
 "nbformat_minor": 2
}
